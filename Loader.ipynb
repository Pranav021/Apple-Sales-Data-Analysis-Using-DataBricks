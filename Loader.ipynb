{
 "cells": [
  {
   "cell_type": "code",
   "execution_count": 0,
   "metadata": {
    "application/vnd.databricks.v1+cell": {
     "cellMetadata": {
      "byteLimit": 2048000,
      "rowLimit": 10000
     },
     "inputWidgets": {},
     "nuid": "db2b65e0-5d49-4c43-9a64-a5a15d141a64",
     "showTitle": false,
     "title": ""
    }
   },
   "outputs": [],
   "source": [
    "%run \"./loader_factory\""
   ]
  },
  {
   "cell_type": "code",
   "execution_count": 0,
   "metadata": {
    "application/vnd.databricks.v1+cell": {
     "cellMetadata": {
      "byteLimit": 2048000,
      "rowLimit": 10000
     },
     "inputWidgets": {},
     "nuid": "8408afb6-1c56-4b9f-a06d-b3f469eabb54",
     "showTitle": false,
     "title": ""
    }
   },
   "outputs": [],
   "source": [
    "class AbstractLoader:\n",
    "    def __init__(self, transformDF):\n",
    "        self.transformDF= transformDF\n",
    "\n",
    "    def sink(self):\n",
    "        pass\n",
    "\n",
    "class AirpodsAfterIPhoneLoader(AbstractLoader):\n",
    "\n",
    "    def sink(self):\n",
    "        get_sink_source(\n",
    "            sink_type=\"dbfs\",\n",
    "            df=self.transformDF,\n",
    "            path=\"dbfs:/FileStore/tables/apple-sales-analysis/output/airpodsafteriphone\", \n",
    "            method=\"overwrite\"\n",
    "        ).load_data_frame()\n",
    "\n",
    "class OnlyAirpodsAndIphoneLoader(AbstractLoader):\n",
    "\n",
    "    def sink(self):\n",
    "        params={\n",
    "            \"partitionByColumns\":[\"location\"]\n",
    "        }\n",
    "        get_sink_source(\n",
    "            sink_type=\"dbfs_with_partition\",\n",
    "            df=self.transformDF,\n",
    "            path=\"dbfs:/FileStore/tables/apple-sales-analysis/output/onlyairpodsandiphone\", \n",
    "            method=\"overwrite\",\n",
    "            params=params\n",
    "        ).load_data_frame()\n",
    "\n",
    "        get_sink_source(\n",
    "            sink_type=\"delta\",\n",
    "            df=self.transformDF,\n",
    "            path=\"default.onlyairpodsandiphone\", \n",
    "            method=\"overwrite\"\n",
    "        ).load_data_frame()\n",
    "\n",
    "class ProductsAfterInitialPurchaseLoader(AbstractLoader):\n",
    "\n",
    "    def sink(self):\n",
    "        get_sink_source(\n",
    "            sink_type=\"delta\",\n",
    "            df=self.transformDF,\n",
    "            path=\"default.productsafterinitialpurchase\", \n",
    "            method=\"overwrite\"\n",
    "        ).load_data_frame()\n",
    "\n",
    "\n",
    "class AvgLagTimeLoader(AbstractLoader):\n",
    "\n",
    "    def sink(self):\n",
    "        get_sink_source(\n",
    "            sink_type=\"delta\",\n",
    "            df=self.transformDF,\n",
    "            path=\"default.avglagtime\", \n",
    "            method=\"overwrite\"\n",
    "        ).load_data_frame()"
   ]
  }
 ],
 "metadata": {
  "application/vnd.databricks.v1+notebook": {
   "dashboards": [],
   "environmentMetadata": null,
   "language": "python",
   "notebookMetadata": {
    "pythonIndentUnit": 4
   },
   "notebookName": "Loader",
   "widgets": {}
  }
 },
 "nbformat": 4,
 "nbformat_minor": 0
}
