{
 "cells": [
  {
   "cell_type": "code",
   "execution_count": 0,
   "metadata": {
    "application/vnd.databricks.v1+cell": {
     "cellMetadata": {
      "byteLimit": 2048000,
      "rowLimit": 10000
     },
     "inputWidgets": {},
     "nuid": "c822e6ea-5af1-43b9-b4a1-730815f96c63",
     "showTitle": false,
     "title": ""
    }
   },
   "outputs": [],
   "source": [
    "\n",
    "class DataSource:\n",
    "    \"\"\"\n",
    "        Abstract class...\n",
    "    \"\"\"\n",
    "    def __init__(self, path):\n",
    "        self.path = path\n",
    "\n",
    "    def get_data_frame(self):\n",
    "        \"\"\"\n",
    "            Abstarct Method, subclass will define it's behaviour\n",
    "        \"\"\"\n",
    "        raise ValueError(\"Not Implemented\")\n",
    "\n",
    "class CSVDataSource(DataSource):\n",
    "\n",
    "    def get_data_frame(self):\n",
    "        return(\n",
    "            spark.\n",
    "            read.\n",
    "            format(\"csv\").\n",
    "            option(\"header\",True).\n",
    "            load(self.path)\n",
    "        )\n",
    "\n",
    "class ParquetDataSource(DataSource):\n",
    "    \n",
    "    def get_data_frame(self):\n",
    "        return(\n",
    "            spark.\n",
    "            read.\n",
    "            format(\"parquet\").\n",
    "            option(\"header\",True).\n",
    "            load(self.path)\n",
    "        )\n",
    "\n",
    "class DeltaDataSource(DataSource):\n",
    "    \n",
    "    def get_data_frame(self):\n",
    "        table_name = self.path\n",
    "        return (\n",
    "            spark.\n",
    "            read.\n",
    "            table(table_name)\n",
    "        )\n",
    "\n",
    "def get_data_source(file_type, file_path):\n",
    "\n",
    "    if file_type == \"csv\":\n",
    "        return CSVDataSource(file_path)\n",
    "    elif file_type == \"parquet\":\n",
    "        return ParquetDataSource(file_path)\n",
    "    elif file_type == \"delta\":\n",
    "        return DeltaDataSource(file_path)\n",
    "    else:\n",
    "        raise ValueError(f\"Not Implemented for data type: {file_type}\")"
   ]
  }
 ],
 "metadata": {
  "application/vnd.databricks.v1+notebook": {
   "dashboards": [],
   "environmentMetadata": null,
   "language": "python",
   "notebookMetadata": {
    "pythonIndentUnit": 4
   },
   "notebookName": "reader_factory",
   "widgets": {}
  }
 },
 "nbformat": 4,
 "nbformat_minor": 0
}
