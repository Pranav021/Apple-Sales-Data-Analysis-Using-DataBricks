{
 "cells": [
  {
   "cell_type": "code",
   "execution_count": 0,
   "metadata": {
    "application/vnd.databricks.v1+cell": {
     "cellMetadata": {
      "byteLimit": 2048000,
      "rowLimit": 10000
     },
     "inputWidgets": {},
     "nuid": "5c0a2bf9-2180-44ab-b6c6-6e6d3798aaf5",
     "showTitle": false,
     "title": ""
    }
   },
   "outputs": [],
   "source": [
    "%run \"./reader_factory\""
   ]
  },
  {
   "cell_type": "code",
   "execution_count": 0,
   "metadata": {
    "application/vnd.databricks.v1+cell": {
     "cellMetadata": {
      "byteLimit": 2048000,
      "rowLimit": 10000
     },
     "inputWidgets": {},
     "nuid": "c470a39a-36ce-4e24-9fa7-5a205ab82aac",
     "showTitle": false,
     "title": ""
    }
   },
   "outputs": [],
   "source": [
    "class Extractor:\n",
    "    def __init__(self):\n",
    "        pass\n",
    "    def extract(self):\n",
    "        pass\n",
    "\n",
    "class AirpodsAfterIphoneExtractor(Extractor):\n",
    "    def extract(self):\n",
    "        \"\"\"\n",
    "        Implement the steps for reading or extracting the data\n",
    "        \"\"\"\n",
    "        transactionInputDF = get_data_source(\n",
    "            file_type=\"csv\",\n",
    "            file_path=\"dbfs:/FileStore/Transaction_Updated.csv\"\n",
    "        ).get_data_frame()\n",
    "\n",
    "        customerInputDF = get_data_source(\n",
    "            file_type=\"delta\",\n",
    "            file_path=\"default.customer_updated_csv\"\n",
    "        ).get_data_frame()\n",
    "\n",
    "        inputDFs = {\n",
    "            \"transactionInputDF\" : transactionInputDF,\n",
    "            \"customerInputDF\" : customerInputDF\n",
    "        }\n",
    "        return inputDFs"
   ]
  }
 ],
 "metadata": {
  "application/vnd.databricks.v1+notebook": {
   "dashboards": [],
   "environmentMetadata": null,
   "language": "python",
   "notebookMetadata": {
    "pythonIndentUnit": 4
   },
   "notebookName": "Extractor",
   "widgets": {}
  }
 },
 "nbformat": 4,
 "nbformat_minor": 0
}
