{
 "cells": [
  {
   "cell_type": "code",
   "execution_count": 0,
   "metadata": {
    "application/vnd.databricks.v1+cell": {
     "cellMetadata": {
      "byteLimit": 2048000,
      "rowLimit": 10000
     },
     "inputWidgets": {},
     "nuid": "03179c42-fa95-4745-95c2-55e7fe6867bd",
     "showTitle": false,
     "title": ""
    }
   },
   "outputs": [],
   "source": [
    "%run \"./Extractor\"\n"
   ]
  },
  {
   "cell_type": "code",
   "execution_count": 0,
   "metadata": {
    "application/vnd.databricks.v1+cell": {
     "cellMetadata": {
      "byteLimit": 2048000,
      "rowLimit": 10000
     },
     "inputWidgets": {},
     "nuid": "c67f993d-22a0-4060-90c6-a8d62c2d17b2",
     "showTitle": false,
     "title": ""
    }
   },
   "outputs": [],
   "source": [
    "%run \"./reader_factory\"\n"
   ]
  },
  {
   "cell_type": "code",
   "execution_count": 0,
   "metadata": {
    "application/vnd.databricks.v1+cell": {
     "cellMetadata": {
      "byteLimit": 2048000,
      "rowLimit": 10000
     },
     "inputWidgets": {},
     "nuid": "5470b79d-9766-4d68-8fd5-32a33cfafcaa",
     "showTitle": false,
     "title": ""
    }
   },
   "outputs": [],
   "source": [
    "%run \"./Transform\""
   ]
  },
  {
   "cell_type": "code",
   "execution_count": 0,
   "metadata": {
    "application/vnd.databricks.v1+cell": {
     "cellMetadata": {
      "byteLimit": 2048000,
      "rowLimit": 10000
     },
     "inputWidgets": {},
     "nuid": "52cc7670-0448-49dd-aee6-70adc65dbbec",
     "showTitle": false,
     "title": ""
    }
   },
   "outputs": [],
   "source": [
    "%run \"./Loader\""
   ]
  },
  {
   "cell_type": "code",
   "execution_count": 0,
   "metadata": {
    "application/vnd.databricks.v1+cell": {
     "cellMetadata": {
      "byteLimit": 2048000,
      "rowLimit": 10000
     },
     "inputWidgets": {},
     "nuid": "460eb46a-d513-46f2-b52e-b9a6fa397491",
     "showTitle": false,
     "title": ""
    }
   },
   "outputs": [],
   "source": [
    "from pyspark.sql import SparkSession\n",
    "from pyspark.sql.functions import lead, col, broadcast,collect_set,size,array_contains,rank,avg,datediff, row_number\n",
    "from pyspark.sql.window import Window\n",
    "spark = SparkSession.builder.appName(\"AppleSalesDataAnalysis\").getOrCreate()"
   ]
  },
  {
   "cell_type": "code",
   "execution_count": 0,
   "metadata": {
    "application/vnd.databricks.v1+cell": {
     "cellMetadata": {
      "byteLimit": 2048000,
      "rowLimit": 10000
     },
     "inputWidgets": {},
     "nuid": "2089feea-7e0d-4c40-a65a-6cdf39c0f29c",
     "showTitle": false,
     "title": ""
    }
   },
   "outputs": [
    {
     "output_type": "stream",
     "name": "stdout",
     "output_type": "stream",
     "text": [
      "TransactioninputDF in transform\n+--------------+-----------+------------+----------------+\n|transaction_id|customer_id|product_name|transaction_date|\n+--------------+-----------+------------+----------------+\n|            11|        105|      iPhone|      2022-02-01|\n|            12|        106|      iPhone|      2022-02-02|\n|            13|        107|     AirPods|      2022-02-03|\n|            14|        105|     AirPods|      2022-02-04|\n|            15|        108|      iPhone|      2022-02-05|\n|            16|        106|     MacBook|      2022-02-06|\n|            17|        107|      iPhone|      2022-02-07|\n|            18|        105|     MacBook|      2022-02-08|\n|            19|        108|     AirPods|      2022-02-09|\n|            20|        106|     AirPods|      2022-02-10|\n+--------------+-----------+------------+----------------+\n\nOrder of products bought\n+--------------+-----------+------------+----------------+----------+\n|transaction_id|customer_id|product_name|transaction_date|tnxs_order|\n+--------------+-----------+------------+----------------+----------+\n|            11|        105|      iPhone|      2022-02-01|         1|\n|            14|        105|     AirPods|      2022-02-04|         2|\n|            18|        105|     MacBook|      2022-02-08|         3|\n|            12|        106|      iPhone|      2022-02-02|         1|\n|            16|        106|     MacBook|      2022-02-06|         2|\n|            20|        106|     AirPods|      2022-02-10|         3|\n|            13|        107|     AirPods|      2022-02-03|         1|\n|            17|        107|      iPhone|      2022-02-07|         2|\n|            15|        108|      iPhone|      2022-02-05|         1|\n|            19|        108|     AirPods|      2022-02-09|         2|\n+--------------+-----------+------------+----------------+----------+\n\n+--------------+-----------+------------+----------------+----------+\n|transaction_id|customer_id|product_name|transaction_date|tnxs_order|\n+--------------+-----------+------------+----------------+----------+\n|            14|        105|     AirPods|      2022-02-04|         2|\n|            18|        105|     MacBook|      2022-02-08|         3|\n|            16|        106|     MacBook|      2022-02-06|         2|\n|            20|        106|     AirPods|      2022-02-10|         3|\n|            17|        107|      iPhone|      2022-02-07|         2|\n|            19|        108|     AirPods|      2022-02-09|         2|\n+--------------+-----------+------------+----------------+----------+\n\nAll products bought after initial purchase by customer\n+-----------+-------------+-------------------+--------+--------------+------------+----------------+----------+\n|customer_id|customer_name|          join_date|location|transaction_id|product_name|transaction_date|tnxs_order|\n+-----------+-------------+-------------------+--------+--------------+------------+----------------+----------+\n|        105|          Eva|2022-01-01 00:00:00|    Ohio|            14|     AirPods|      2022-02-04|         2|\n|        105|          Eva|2022-01-01 00:00:00|    Ohio|            18|     MacBook|      2022-02-08|         3|\n|        106|        Frank|2022-02-01 00:00:00|  Nevada|            16|     MacBook|      2022-02-06|         2|\n|        106|        Frank|2022-02-01 00:00:00|  Nevada|            20|     AirPods|      2022-02-10|         3|\n|        107|        Grace|2022-03-01 00:00:00|Colorado|            17|      iPhone|      2022-02-07|         2|\n|        108|        Henry|2022-04-01 00:00:00|    Utah|            19|     AirPods|      2022-02-09|         2|\n+-----------+-------------+-------------------+--------+--------------+------------+----------------+----------+\n\nTransactioninputDF in transform\n+--------------+-----------+------------+----------------+\n|transaction_id|customer_id|product_name|transaction_date|\n+--------------+-----------+------------+----------------+\n|            11|        105|      iPhone|      2022-02-01|\n|            12|        106|      iPhone|      2022-02-02|\n|            13|        107|     AirPods|      2022-02-03|\n|            14|        105|     AirPods|      2022-02-04|\n|            15|        108|      iPhone|      2022-02-05|\n|            16|        106|     MacBook|      2022-02-06|\n|            17|        107|      iPhone|      2022-02-07|\n|            18|        105|     MacBook|      2022-02-08|\n|            19|        108|     AirPods|      2022-02-09|\n|            20|        106|     AirPods|      2022-02-10|\n+--------------+-----------+------------+----------------+\n\nTransformed df in AverageTimeDelayTransformer class with row_num \n+--------------+-----------+------------+----------------+----------+\n|transaction_id|customer_id|product_name|transaction_date|row_number|\n+--------------+-----------+------------+----------------+----------+\n|14            |105        |AirPods     |2022-02-04      |1         |\n|11            |105        |iPhone      |2022-02-01      |1         |\n|20            |106        |AirPods     |2022-02-10      |1         |\n|12            |106        |iPhone      |2022-02-02      |1         |\n|13            |107        |AirPods     |2022-02-03      |1         |\n|17            |107        |iPhone      |2022-02-07      |1         |\n|19            |108        |AirPods     |2022-02-09      |1         |\n|15            |108        |iPhone      |2022-02-05      |1         |\n+--------------+-----------+------------+----------------+----------+\n\nnewtransform df in AverageTimeDelayTransformer class\nresult of newtransform df in AverageTimeDelayTransformer class\n+--------------+-----------+------------+----------------+----------+---------------------+--------+\n|transaction_id|customer_id|product_name|transaction_date|row_number|next_transaction_date|lag_time|\n+--------------+-----------+------------+----------------+----------+---------------------+--------+\n|11            |105        |iPhone      |2022-02-01      |1         |2022-02-04           |3       |\n|12            |106        |iPhone      |2022-02-02      |1         |2022-02-10           |8       |\n|13            |107        |AirPods     |2022-02-03      |1         |2022-02-07           |4       |\n|15            |108        |iPhone      |2022-02-05      |1         |2022-02-09           |4       |\n+--------------+-----------+------------+----------------+----------+---------------------+--------+\n\nTransactioninputDF in transform\n+--------------+-----------+------------+----------------+\n|transaction_id|customer_id|product_name|transaction_date|\n+--------------+-----------+------------+----------------+\n|            11|        105|      iPhone|      2022-02-01|\n|            12|        106|      iPhone|      2022-02-02|\n|            13|        107|     AirPods|      2022-02-03|\n|            14|        105|     AirPods|      2022-02-04|\n|            15|        108|      iPhone|      2022-02-05|\n|            16|        106|     MacBook|      2022-02-06|\n|            17|        107|      iPhone|      2022-02-07|\n|            18|        105|     MacBook|      2022-02-08|\n|            19|        108|     AirPods|      2022-02-09|\n|            20|        106|     AirPods|      2022-02-10|\n+--------------+-----------+------------+----------------+\n\ngroupedDF in transform\n+-----------+--------------------+\n|customer_id|            products|\n+-----------+--------------------+\n|        107|   [AirPods, iPhone]|\n|        108|   [AirPods, iPhone]|\n|        106|[AirPods, iPhone,...|\n|        105|[AirPods, iPhone,...|\n+-----------+--------------------+\n\ngroupedDF in transform\ncustomerInputDF in transform\nCustomers who have bought only Airpods and iPhone\n+-----------+-------------+-------------------+--------+-----------------+\n|customer_id|customer_name|          join_date|location|         products|\n+-----------+-------------+-------------------+--------+-----------------+\n|        107|        Grace|2022-03-01 00:00:00|Colorado|[AirPods, iPhone]|\n|        108|        Henry|2022-04-01 00:00:00|    Utah|[AirPods, iPhone]|\n+-----------+-------------+-------------------+--------+-----------------+\n\n"
     ]
    }
   ],
   "source": [
    "class FirstWorkFlow:\n",
    "    def __init__(self):\n",
    "        pass\n",
    "\n",
    "    def runner(self):\n",
    "        \n",
    "        #Step 1: Extract all required data from different sources\n",
    "        inputDFs = AirpodsAfterIphoneExtractor().extract()\n",
    "\n",
    "        #Step2: Implement the transformation logic\n",
    "        # Customers who have bought Airpods after buying the iPhone --> check\n",
    "        firstTransformedDF = AirpodsAfterIphoneTransformer().transform(inputDFs)\n",
    "\n",
    "        #Step 3: Load all required data  to different sink\n",
    "        AirpodsAfterIPhoneLoader(firstTransformedDF).sink()\n",
    "\n",
    "FirstWorkFlow=FirstWorkFlow().runner()\n",
    "\n",
    "class SecondWorkFlow:\n",
    "    def __init__(self):\n",
    "        pass\n",
    "\n",
    "    def runner(self):\n",
    "        \n",
    "        #Step 1: Extract all required data from different sources\n",
    "        inputDFs = AirpodsAfterIphoneExtractor().extract()\n",
    "\n",
    "        #Step 2: Transformation logic -Customers who have bought Airpods after buying iPhone\n",
    "        secondTransformDF=OnlyAirpodsAndIphoneTransformer().transform(inputDFs)\n",
    "\n",
    "        #Step 3: Load all required data to different sink\n",
    "        OnlyAirpodsAndIphoneLoader(secondTransformDF).sink()\n",
    "\n",
    "SecondWorkFlow=SecondWorkFlow().runner()\n",
    "\n",
    "class ThirdWorkFlow:\n",
    "    \"\"\"\n",
    "    ETL Pipeline to generate data for all Products bought after initlal purchase by all customers \n",
    "    \"\"\"\n",
    "\n",
    "    def __init__(self):\n",
    "        pass\n",
    "\n",
    "    def runner(self):\n",
    "\n",
    "        #Step 1: Extract all required data from different sources\n",
    "        inputDFs= AirpodsAfterIphoneExtractor().extract()\n",
    "\n",
    "        #Step 2: Transformation logic -Customers who have bought Airpods after buying iPhone\n",
    "        thirdTransformDF= ProductsAfterInitialPurchaseTransformer().transform(inputDFs)\n",
    "\n",
    "        #Step 3: Load all required data to different sink\n",
    "        ProductsAfterInitialPurchaseLoader(thirdTransformDF).sink()\n",
    "\n",
    "\n",
    "thirdWorkFlow=ThirdWorkFlow().runner()\n",
    "\n",
    "\n",
    "# COMMAND ----------\n",
    "\n",
    "class FourthWorkFlow:\n",
    "    \"\"\"\n",
    "    ETL Pipeline to generate data for all Products bought after initlal purchase by all customers \n",
    "    \"\"\"\n",
    "\n",
    "    def __init__(self):\n",
    "        pass\n",
    "\n",
    "    def runner(self):\n",
    "\n",
    "        #Step 1: Extract all required data from different sources\n",
    "        inputDFs= AirpodsAfterIphoneExtractor().extract()\n",
    "\n",
    "        #Step 2: Transformation logic -Customers who have bought Airpods after buying iPhone\n",
    "        fourthTransformDF= AvgLagTimeTransformer().transform(inputDFs)\n",
    "\n",
    "        #Step 3: Load all required data to different sink\n",
    "        AvgLagTimeLoader(fourthTransformDF).sink()\n",
    "\n",
    "\n",
    "fourthdWorkFlow=FourthWorkFlow().runner()\n",
    "\n"
   ]
  }
 ],
 "metadata": {
  "application/vnd.databricks.v1+notebook": {
   "dashboards": [],
   "environmentMetadata": null,
   "language": "python",
   "notebookMetadata": {
    "pythonIndentUnit": 4
   },
   "notebookName": "Data_Workflow",
   "widgets": {}
  }
 },
 "nbformat": 4,
 "nbformat_minor": 0
}
