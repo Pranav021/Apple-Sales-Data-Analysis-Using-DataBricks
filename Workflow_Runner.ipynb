{
 "cells": [
  {
   "cell_type": "code",
   "execution_count": 0,
   "metadata": {
    "application/vnd.databricks.v1+cell": {
     "cellMetadata": {
      "byteLimit": 2048000,
      "rowLimit": 10000
     },
     "inputWidgets": {},
     "nuid": "1924f1f8-33e5-4a51-bca8-ee9469fd8e69",
     "showTitle": false,
     "title": ""
    }
   },
   "outputs": [],
   "source": [
    "%run \"./Data_Workflow\""
   ]
  },
  {
   "cell_type": "code",
   "execution_count": 0,
   "metadata": {
    "application/vnd.databricks.v1+cell": {
     "cellMetadata": {
      "byteLimit": 2048000,
      "rowLimit": 10000
     },
     "inputWidgets": {},
     "nuid": "1a9225b1-2d92-437d-9942-927d0fa5f278",
     "showTitle": false,
     "title": ""
    }
   },
   "outputs": [
    {
     "output_type": "stream",
     "name": "stdout",
     "output_type": "stream",
     "text": [
      "TransactioninputDF in transform\n+--------------+-----------+------------+----------------+\n|transaction_id|customer_id|product_name|transaction_date|\n+--------------+-----------+------------+----------------+\n|            11|        105|      iPhone|      2022-02-01|\n|            12|        106|      iPhone|      2022-02-02|\n|            13|        107|     AirPods|      2022-02-03|\n|            14|        105|     AirPods|      2022-02-04|\n|            15|        108|      iPhone|      2022-02-05|\n|            16|        106|     MacBook|      2022-02-06|\n|            17|        107|      iPhone|      2022-02-07|\n|            18|        105|     MacBook|      2022-02-08|\n|            19|        108|     AirPods|      2022-02-09|\n|            20|        106|     AirPods|      2022-02-10|\n+--------------+-----------+------------+----------------+\n\ncustomerInputDF in transform\n+-----------+-------------+-------------------+--------+\n|customer_id|customer_name|          join_date|location|\n+-----------+-------------+-------------------+--------+\n|        105|          Eva|2022-01-01 00:00:00|    Ohio|\n|        106|        Frank|2022-02-01 00:00:00|  Nevada|\n|        107|        Grace|2022-03-01 00:00:00|Colorado|\n|        108|        Henry|2022-04-01 00:00:00|    Utah|\n+-----------+-------------+-------------------+--------+\n\nCustomers who have bought Airpods after buying the iPhone\n+-----------+-------------+--------+\n|customer_id|customer_name|location|\n+-----------+-------------+--------+\n|        105|          Eva|    Ohio|\n|        108|        Henry|    Utah|\n+-----------+-------------+--------+\n\nCustomers who have bought only Airpods and iPhone\n+-----------+-------------+-------------------+--------+-----------------+\n|customer_id|customer_name|          join_date|location|         products|\n+-----------+-------------+-------------------+--------+-----------------+\n|        107|        Grace|2022-03-01 00:00:00|Colorado|[AirPods, iPhone]|\n|        108|        Henry|2022-04-01 00:00:00|    Utah|[AirPods, iPhone]|\n+-----------+-------------+-------------------+--------+-----------------+\n\nOrder of products bought\n+--------------+-----------+------------+----------------+----------+\n|transaction_id|customer_id|product_name|transaction_date|tnxs_order|\n+--------------+-----------+------------+----------------+----------+\n|            11|        105|      iPhone|      2022-02-01|         1|\n|            14|        105|     AirPods|      2022-02-04|         2|\n|            18|        105|     MacBook|      2022-02-08|         3|\n|            12|        106|      iPhone|      2022-02-02|         1|\n|            16|        106|     MacBook|      2022-02-06|         2|\n|            20|        106|     AirPods|      2022-02-10|         3|\n|            13|        107|     AirPods|      2022-02-03|         1|\n|            17|        107|      iPhone|      2022-02-07|         2|\n|            15|        108|      iPhone|      2022-02-05|         1|\n|            19|        108|     AirPods|      2022-02-09|         2|\n+--------------+-----------+------------+----------------+----------+\n\n+--------------+-----------+------------+----------------+----------+\n|transaction_id|customer_id|product_name|transaction_date|tnxs_order|\n+--------------+-----------+------------+----------------+----------+\n|            14|        105|     AirPods|      2022-02-04|         2|\n|            18|        105|     MacBook|      2022-02-08|         3|\n|            16|        106|     MacBook|      2022-02-06|         2|\n|            20|        106|     AirPods|      2022-02-10|         3|\n|            17|        107|      iPhone|      2022-02-07|         2|\n|            19|        108|     AirPods|      2022-02-09|         2|\n+--------------+-----------+------------+----------------+----------+\n\nAll products bought after initial purchase by customer\n+-----------+-------------+-------------------+--------+--------------+------------+----------------+----------+\n|customer_id|customer_name|          join_date|location|transaction_id|product_name|transaction_date|tnxs_order|\n+-----------+-------------+-------------------+--------+--------------+------------+----------------+----------+\n|        105|          Eva|2022-01-01 00:00:00|    Ohio|            14|     AirPods|      2022-02-04|         2|\n|        105|          Eva|2022-01-01 00:00:00|    Ohio|            18|     MacBook|      2022-02-08|         3|\n|        106|        Frank|2022-02-01 00:00:00|  Nevada|            16|     MacBook|      2022-02-06|         2|\n|        106|        Frank|2022-02-01 00:00:00|  Nevada|            20|     AirPods|      2022-02-10|         3|\n|        107|        Grace|2022-03-01 00:00:00|Colorado|            17|      iPhone|      2022-02-07|         2|\n|        108|        Henry|2022-04-01 00:00:00|    Utah|            19|     AirPods|      2022-02-09|         2|\n+-----------+-------------+-------------------+--------+--------------+------------+----------------+----------+\n\nTransformed df in AverageTimeDelayTransformer class with row_num \n+--------------+-----------+------------+----------------+----------+\n|transaction_id|customer_id|product_name|transaction_date|row_number|\n+--------------+-----------+------------+----------------+----------+\n|14            |105        |AirPods     |2022-02-04      |1         |\n|11            |105        |iPhone      |2022-02-01      |1         |\n|20            |106        |AirPods     |2022-02-10      |1         |\n|12            |106        |iPhone      |2022-02-02      |1         |\n|13            |107        |AirPods     |2022-02-03      |1         |\n|17            |107        |iPhone      |2022-02-07      |1         |\n|19            |108        |AirPods     |2022-02-09      |1         |\n|15            |108        |iPhone      |2022-02-05      |1         |\n+--------------+-----------+------------+----------------+----------+\n\nnewtransform df in AverageTimeDelayTransformer class\nresult of newtransform df in AverageTimeDelayTransformer class\n+--------------+-----------+------------+----------------+----------+---------------------+--------+\n|transaction_id|customer_id|product_name|transaction_date|row_number|next_transaction_date|lag_time|\n+--------------+-----------+------------+----------------+----------+---------------------+--------+\n|11            |105        |iPhone      |2022-02-01      |1         |2022-02-04           |3       |\n|12            |106        |iPhone      |2022-02-02      |1         |2022-02-10           |8       |\n|13            |107        |AirPods     |2022-02-03      |1         |2022-02-07           |4       |\n|15            |108        |iPhone      |2022-02-05      |1         |2022-02-09           |4       |\n+--------------+-----------+------------+----------------+----------+---------------------+--------+\n\n"
     ]
    },
    {
     "output_type": "display_data",
     "data": {
      "text/plain": [
       "\u001B[0;31m---------------------------------------------------------------------------\u001B[0m\n",
       "\u001B[0;31mTypeError\u001B[0m                                 Traceback (most recent call last)\n",
       "File \u001B[0;32m<command-1850865577951733>:27\u001B[0m\n",
       "\u001B[1;32m     19\u001B[0m dbutils\u001B[38;5;241m.\u001B[39mwidgets\u001B[38;5;241m.\u001B[39mdropdown(\n",
       "\u001B[1;32m     20\u001B[0m name\u001B[38;5;241m=\u001B[39m\u001B[38;5;124m\"\u001B[39m\u001B[38;5;124mworkflow_list\u001B[39m\u001B[38;5;124m\"\u001B[39m,\n",
       "\u001B[1;32m     21\u001B[0m defaultValue\u001B[38;5;241m=\u001B[39m\u001B[38;5;124m\"\u001B[39m\u001B[38;5;124mFirst Workflow\u001B[39m\u001B[38;5;124m\"\u001B[39m,\n",
       "\u001B[1;32m     22\u001B[0m choices\u001B[38;5;241m=\u001B[39m[\u001B[38;5;124m\"\u001B[39m\u001B[38;5;124mFirst Workflow\u001B[39m\u001B[38;5;124m\"\u001B[39m,\u001B[38;5;124m\"\u001B[39m\u001B[38;5;124mSecond Workflow\u001B[39m\u001B[38;5;124m\"\u001B[39m,\u001B[38;5;124m\"\u001B[39m\u001B[38;5;124mThird Workflow\u001B[39m\u001B[38;5;124m\"\u001B[39m,\u001B[38;5;124m\"\u001B[39m\u001B[38;5;124mFourth Workflow\u001B[39m\u001B[38;5;124m\"\u001B[39m],\n",
       "\u001B[1;32m     23\u001B[0m label\u001B[38;5;241m=\u001B[39m\u001B[38;5;124m\"\u001B[39m\u001B[38;5;124mWhich workflow to run\u001B[39m\u001B[38;5;124m\"\u001B[39m)\n",
       "\u001B[1;32m     25\u001B[0m wf\u001B[38;5;241m=\u001B[39mdbutils\u001B[38;5;241m.\u001B[39mwidgets\u001B[38;5;241m.\u001B[39mget(\u001B[38;5;124m\"\u001B[39m\u001B[38;5;124mworkflow_list\u001B[39m\u001B[38;5;124m\"\u001B[39m)\n",
       "\u001B[0;32m---> 27\u001B[0m WorkflowRunner\u001B[38;5;241m=\u001B[39mWorkflowRunner(wf)\u001B[38;5;241m.\u001B[39mrunner()\n",
       "\n",
       "File \u001B[0;32m<command-1850865577951733>:8\u001B[0m, in \u001B[0;36mWorkflowRunner.runner\u001B[0;34m(self)\u001B[0m\n",
       "\u001B[1;32m      5\u001B[0m \u001B[38;5;28;01mdef\u001B[39;00m \u001B[38;5;21mrunner\u001B[39m(\u001B[38;5;28mself\u001B[39m):\n",
       "\u001B[1;32m      7\u001B[0m    \u001B[38;5;28;01mif\u001B[39;00m \u001B[38;5;28mself\u001B[39m\u001B[38;5;241m.\u001B[39mname\u001B[38;5;241m==\u001B[39m\u001B[38;5;124m\"\u001B[39m\u001B[38;5;124mFirst Workflow\u001B[39m\u001B[38;5;124m\"\u001B[39m:\n",
       "\u001B[0;32m----> 8\u001B[0m        \u001B[38;5;28;01mreturn\u001B[39;00m \u001B[43mFirstWorkFlow\u001B[49m\u001B[43m(\u001B[49m\u001B[43m)\u001B[49m\u001B[38;5;241m.\u001B[39mrunner()\n",
       "\u001B[1;32m      9\u001B[0m    \u001B[38;5;28;01melif\u001B[39;00m \u001B[38;5;28mself\u001B[39m\u001B[38;5;241m.\u001B[39mname\u001B[38;5;241m==\u001B[39m\u001B[38;5;124m\"\u001B[39m\u001B[38;5;124mSecond Workflow\u001B[39m\u001B[38;5;124m\"\u001B[39m:\n",
       "\u001B[1;32m     10\u001B[0m        \u001B[38;5;28;01mreturn\u001B[39;00m SecondWorkFlow()\u001B[38;5;241m.\u001B[39mrunner()\n",
       "\n",
       "\u001B[0;31mTypeError\u001B[0m: 'NoneType' object is not callable"
      ]
     },
     "metadata": {
      "application/vnd.databricks.v1+output": {
       "arguments": {},
       "data": "\u001B[0;31m---------------------------------------------------------------------------\u001B[0m\n\u001B[0;31mTypeError\u001B[0m                                 Traceback (most recent call last)\nFile \u001B[0;32m<command-1850865577951733>:27\u001B[0m\n\u001B[1;32m     19\u001B[0m dbutils\u001B[38;5;241m.\u001B[39mwidgets\u001B[38;5;241m.\u001B[39mdropdown(\n\u001B[1;32m     20\u001B[0m name\u001B[38;5;241m=\u001B[39m\u001B[38;5;124m\"\u001B[39m\u001B[38;5;124mworkflow_list\u001B[39m\u001B[38;5;124m\"\u001B[39m,\n\u001B[1;32m     21\u001B[0m defaultValue\u001B[38;5;241m=\u001B[39m\u001B[38;5;124m\"\u001B[39m\u001B[38;5;124mFirst Workflow\u001B[39m\u001B[38;5;124m\"\u001B[39m,\n\u001B[1;32m     22\u001B[0m choices\u001B[38;5;241m=\u001B[39m[\u001B[38;5;124m\"\u001B[39m\u001B[38;5;124mFirst Workflow\u001B[39m\u001B[38;5;124m\"\u001B[39m,\u001B[38;5;124m\"\u001B[39m\u001B[38;5;124mSecond Workflow\u001B[39m\u001B[38;5;124m\"\u001B[39m,\u001B[38;5;124m\"\u001B[39m\u001B[38;5;124mThird Workflow\u001B[39m\u001B[38;5;124m\"\u001B[39m,\u001B[38;5;124m\"\u001B[39m\u001B[38;5;124mFourth Workflow\u001B[39m\u001B[38;5;124m\"\u001B[39m],\n\u001B[1;32m     23\u001B[0m label\u001B[38;5;241m=\u001B[39m\u001B[38;5;124m\"\u001B[39m\u001B[38;5;124mWhich workflow to run\u001B[39m\u001B[38;5;124m\"\u001B[39m)\n\u001B[1;32m     25\u001B[0m wf\u001B[38;5;241m=\u001B[39mdbutils\u001B[38;5;241m.\u001B[39mwidgets\u001B[38;5;241m.\u001B[39mget(\u001B[38;5;124m\"\u001B[39m\u001B[38;5;124mworkflow_list\u001B[39m\u001B[38;5;124m\"\u001B[39m)\n\u001B[0;32m---> 27\u001B[0m WorkflowRunner\u001B[38;5;241m=\u001B[39mWorkflowRunner(wf)\u001B[38;5;241m.\u001B[39mrunner()\n\nFile \u001B[0;32m<command-1850865577951733>:8\u001B[0m, in \u001B[0;36mWorkflowRunner.runner\u001B[0;34m(self)\u001B[0m\n\u001B[1;32m      5\u001B[0m \u001B[38;5;28;01mdef\u001B[39;00m \u001B[38;5;21mrunner\u001B[39m(\u001B[38;5;28mself\u001B[39m):\n\u001B[1;32m      7\u001B[0m    \u001B[38;5;28;01mif\u001B[39;00m \u001B[38;5;28mself\u001B[39m\u001B[38;5;241m.\u001B[39mname\u001B[38;5;241m==\u001B[39m\u001B[38;5;124m\"\u001B[39m\u001B[38;5;124mFirst Workflow\u001B[39m\u001B[38;5;124m\"\u001B[39m:\n\u001B[0;32m----> 8\u001B[0m        \u001B[38;5;28;01mreturn\u001B[39;00m \u001B[43mFirstWorkFlow\u001B[49m\u001B[43m(\u001B[49m\u001B[43m)\u001B[49m\u001B[38;5;241m.\u001B[39mrunner()\n\u001B[1;32m      9\u001B[0m    \u001B[38;5;28;01melif\u001B[39;00m \u001B[38;5;28mself\u001B[39m\u001B[38;5;241m.\u001B[39mname\u001B[38;5;241m==\u001B[39m\u001B[38;5;124m\"\u001B[39m\u001B[38;5;124mSecond Workflow\u001B[39m\u001B[38;5;124m\"\u001B[39m:\n\u001B[1;32m     10\u001B[0m        \u001B[38;5;28;01mreturn\u001B[39;00m SecondWorkFlow()\u001B[38;5;241m.\u001B[39mrunner()\n\n\u001B[0;31mTypeError\u001B[0m: 'NoneType' object is not callable",
       "errorSummary": "<span class='ansi-red-fg'>TypeError</span>: 'NoneType' object is not callable",
       "errorTraceType": "ansi",
       "metadata": {},
       "type": "ipynbError"
      }
     },
     "output_type": "display_data"
    }
   ],
   "source": [
    "class WorkflowRunner:\n",
    "    def __init__(self, name):\n",
    "       self.name=name\n",
    "   \n",
    "    def runner(self):\n",
    "\n",
    "       if self.name==\"First Workflow\":\n",
    "           return FirstWorkFlow().runner()\n",
    "       elif self.name==\"Second Workflow\":\n",
    "           return SecondWorkFlow().runner()\n",
    "       elif self.name==\"Third Workflow\":\n",
    "           return ThirdWorkFlow().runner()\n",
    "       elif self.name==\"Fourth Workflow\":\n",
    "           return FourthWorkFlow().runner()\n",
    "       else:\n",
    "           raise ValueError(f\"Not Implemented for name: {self.name}\")\n",
    "\n",
    "\n",
    "dbutils.widgets.dropdown(\n",
    "name=\"workflow_list\",\n",
    "defaultValue=\"First Workflow\",\n",
    "choices=[\"First Workflow\",\"Second Workflow\",\"Third Workflow\",\"Fourth Workflow\"],\n",
    "label=\"Which workflow to run\")\n",
    "\n",
    "wf=dbutils.widgets.get(\"workflow_list\")\n",
    "\n",
    "WorkflowRunner=WorkflowRunner(wf).runner()\n",
    "\n"
   ]
  }
 ],
 "metadata": {
  "application/vnd.databricks.v1+notebook": {
   "dashboards": [],
   "environmentMetadata": null,
   "language": "python",
   "notebookMetadata": {
    "pythonIndentUnit": 4
   },
   "notebookName": "Workflow_Runner",
   "widgets": {
    "workflow_list": {
     "currentValue": "First Workflow",
     "nuid": "be1892c3-b4df-416c-a7fe-1d5b783b0fef",
     "typedWidgetInfo": null,
     "widgetInfo": {
      "widgetType": "dropdown",
      "defaultValue": "First Workflow",
      "label": "Which workflow to run",
      "name": "workflow_list",
      "options": {
       "widgetType": "dropdown",
       "autoCreated": null,
       "choices": [
        "First Workflow",
        "Second Workflow",
        "Third Workflow",
        "Fourth Workflow"
       ]
      }
     }
    }
   }
  }
 },
 "nbformat": 4,
 "nbformat_minor": 0
}
